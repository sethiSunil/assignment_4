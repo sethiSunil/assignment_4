{
 "cells": [
  {
   "cell_type": "code",
   "execution_count": 14,
   "id": "6d4c559d-10bd-478a-8abd-a2eb309764fd",
   "metadata": {},
   "outputs": [
    {
     "name": "stdout",
     "output_type": "stream",
     "text": [
      "This is a while loop 1\n",
      "This is a while loop 2\n",
      "This is a while loop 3\n",
      "This is a while loop 4\n",
      "This is a while loop 5\n"
     ]
    }
   ],
   "source": [
    "# 1) . Print number from 1 to 5 using a while loop.\n",
    "\n",
    "number = 1\n",
    "\n",
    "while number <= 5:\n",
    "    print( \"This is a while loop\" , number)\n",
    "    number += 1"
   ]
  },
  {
   "cell_type": "code",
   "execution_count": 6,
   "id": "03044504-ffc2-4d3a-a5bb-2b7833e8f299",
   "metadata": {},
   "outputs": [
    {
     "name": "stdout",
     "output_type": "stream",
     "text": [
      "sum of number from 1 to 10 is : 1\n",
      "sum of number from 1 to 10 is : 3\n",
      "sum of number from 1 to 10 is : 6\n",
      "sum of number from 1 to 10 is : 10\n",
      "sum of number from 1 to 10 is : 15\n",
      "sum of number from 1 to 10 is : 21\n",
      "sum of number from 1 to 10 is : 28\n",
      "sum of number from 1 to 10 is : 36\n",
      "sum of number from 1 to 10 is : 45\n",
      "sum of number from 1 to 10 is : 55\n"
     ]
    }
   ],
   "source": [
    "# 2) . Calclate the  sum of number from 1 to 10 using a while loop.\n",
    "    \n",
    "num3 = 1\n",
    "sum = 0\n",
    "while num3 <= 10:\n",
    "    sum += num3\n",
    "    num3 += 1\n",
    "    print(\"sum of number from 1 to 10 is :\" , sum )"
   ]
  },
  {
   "cell_type": "code",
   "execution_count": 15,
   "id": "68c613b9-12df-4987-8d13-8ee492ba56a8",
   "metadata": {},
   "outputs": [
    {
     "name": "stdin",
     "output_type": "stream",
     "text": [
      "Enter a number:  1\n"
     ]
    },
    {
     "name": "stdout",
     "output_type": "stream",
     "text": [
      "The factorial of 1 is 1\n"
     ]
    }
   ],
   "source": [
    "# 3) . Calculate the factorial of a number using a for loop \n",
    "\n",
    "num = int(input(\"Enter a number: \"))\n",
    "\n",
    "factorial = 1\n",
    "\n",
    "if num < 0:\n",
    "    print(\"Factorial does not exist for negative numbers.\")\n",
    "elif num == 0:\n",
    "    print(\"The factorial of 0 is 1.\")\n",
    "else:\n",
    "    for i in range(1, num + 1):\n",
    "        factorial *= i\n",
    "    print(\"The factorial of\", num, \"is\", factorial)\n"
   ]
  },
  {
   "cell_type": "code",
   "execution_count": 16,
   "id": "e4046bb1-d3b7-4d1d-9291-52a551c2db96",
   "metadata": {},
   "outputs": [
    {
     "name": "stdin",
     "output_type": "stream",
     "text": [
      "Enter a string:  ajay kumar\n"
     ]
    },
    {
     "name": "stdout",
     "output_type": "stream",
     "text": [
      "Number of vowels in the string: 4\n"
     ]
    }
   ],
   "source": [
    "# 4) .Count the number of vowel in a string using a for loop \n",
    "\n",
    "\n",
    "\n",
    "# Input string\n",
    "string = input(\"Enter a string: \")\n",
    "\n",
    "# Initialize a counter to keep track of the number of vowels\n",
    "count = 0\n",
    "\n",
    "# Define a list of vowels\n",
    "vowels = ['a', 'e', 'i', 'o', 'u']\n",
    "\n",
    "# Iterate through each character in the string\n",
    "for char in string:\n",
    "    # Check if the character is a vowel\n",
    "    if char.lower() in vowels:\n",
    "        count += 1\n",
    "\n",
    "# Print the count of vowels\n",
    "print(\"Number of vowels in the string:\", count)\n"
   ]
  },
  {
   "cell_type": "code",
   "execution_count": 9,
   "id": "27e2ce0a-7edf-4a84-b167-1a0667164795",
   "metadata": {},
   "outputs": [
    {
     "name": "stdout",
     "output_type": "stream",
     "text": [
      "* \n",
      "* * \n",
      "* * * \n",
      "* * * * \n",
      "* * * * * \n"
     ]
    }
   ],
   "source": [
    "# 5) . print a pattern useing nested loops\n",
    "\n",
    "rows = 5\n",
    "\n",
    "for i in range(1, rows + 1):\n",
    "    for k in range(1, i + 1):\n",
    "        print(\"*\", end=\" \")\n",
    "    print()"
   ]
  },
  {
   "cell_type": "code",
   "execution_count": 12,
   "id": "fcb942f1-f675-43b5-b2db-21a62a214800",
   "metadata": {},
   "outputs": [
    {
     "name": "stdout",
     "output_type": "stream",
     "text": [
      "1\t2\t3\t4\t5\t6\t7\t8\t9\t10\t\n",
      "2\t4\t6\t8\t10\t12\t14\t16\t18\t20\t\n",
      "3\t6\t9\t12\t15\t18\t21\t24\t27\t30\t\n",
      "4\t8\t12\t16\t20\t24\t28\t32\t36\t40\t\n",
      "5\t10\t15\t20\t25\t30\t35\t40\t45\t50\t\n",
      "6\t12\t18\t24\t30\t36\t42\t48\t54\t60\t\n",
      "7\t14\t21\t28\t35\t42\t49\t56\t63\t70\t\n",
      "8\t16\t24\t32\t40\t48\t56\t64\t72\t80\t\n",
      "9\t18\t27\t36\t45\t54\t63\t72\t81\t90\t\n",
      "10\t20\t30\t40\t50\t60\t70\t80\t90\t100\t\n"
     ]
    }
   ],
   "source": [
    "# 6).  generate a multiplication table useing nested loops\n",
    "\n",
    "def multiplication_table(n):\n",
    "    for i in range(1, n+1):\n",
    "        for  k in range(1, n+1):\n",
    "            print(i * k, end=\"\\t\")\n",
    "        print()\n",
    "\n",
    "# Example: generate a multiplication table up to 10x10\n",
    "multiplication_table(10)\n"
   ]
  },
  {
   "cell_type": "code",
   "execution_count": null,
   "id": "ba0dae13-4200-427f-a68b-1cbc5ee14e35",
   "metadata": {},
   "outputs": [],
   "source": []
  }
 ],
 "metadata": {
  "kernelspec": {
   "display_name": "Python 3 (ipykernel)",
   "language": "python",
   "name": "python3"
  },
  "language_info": {
   "codemirror_mode": {
    "name": "ipython",
    "version": 3
   },
   "file_extension": ".py",
   "mimetype": "text/x-python",
   "name": "python",
   "nbconvert_exporter": "python",
   "pygments_lexer": "ipython3",
   "version": "3.10.8"
  }
 },
 "nbformat": 4,
 "nbformat_minor": 5
}
